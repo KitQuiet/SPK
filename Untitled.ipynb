{
 "cells": [
  {
   "cell_type": "code",
   "execution_count": 30,
   "metadata": {},
   "outputs": [],
   "source": [
    "data = [[2,3,4,6,4],\n",
    "        [4,5,6,7,5],\n",
    "        [5,5,7,2,6],\n",
    "        [3,4,5,1,7],\n",
    "        [4,8,2,3,3],\n",
    "        [4,4,5,8,5],\n",
    "        [8,8,7,1,4],\n",
    "       [2,9,9,2,3],]\n",
    "\n",
    "bobot = [4,2,2,4,3]\n",
    "attribute = [0,1,1,0,1]\n",
    "# atribut:\n",
    "#     benefit = 1\n",
    "#     cost = 0\n",
    "    \n"
   ]
  },
  {
   "cell_type": "code",
   "execution_count": 31,
   "metadata": {},
   "outputs": [
    {
     "name": "stdout",
     "output_type": "stream",
     "text": [
      "[[2. 3. 4. 6. 4.]\n",
      " [4. 5. 6. 7. 5.]\n",
      " [5. 5. 7. 2. 6.]\n",
      " [3. 4. 5. 1. 7.]\n",
      " [4. 8. 2. 3. 3.]\n",
      " [4. 4. 5. 8. 5.]\n",
      " [8. 8. 7. 1. 4.]\n",
      " [2. 9. 9. 2. 3.]]\n"
     ]
    }
   ],
   "source": [
    "import numpy as np\n",
    "data = np.array(data).astype(float)\n",
    "print(data)"
   ]
  },
  {
   "cell_type": "code",
   "execution_count": 32,
   "metadata": {},
   "outputs": [
    {
     "name": "stdout",
     "output_type": "stream",
     "text": [
      "[0.27, 0.13, 0.13, 0.27, 0.2]\n"
     ]
    }
   ],
   "source": [
    "w =[round(x/np.sum(bobot),2) for x in bobot]\n",
    "# w =[]\n",
    "# for x in bobot:\n",
    "#     x_ =round(x/np.sum(bobot),2)\n",
    "#     w.append(x_)\n",
    "print(w)"
   ]
  },
  {
   "cell_type": "code",
   "execution_count": 33,
   "metadata": {},
   "outputs": [
    {
     "name": "stdout",
     "output_type": "stream",
     "text": [
      "8\n",
      "5\n"
     ]
    }
   ],
   "source": [
    "x,y = data.shape\n",
    "print(x)\n",
    "print(y)"
   ]
  },
  {
   "cell_type": "code",
   "execution_count": 39,
   "metadata": {},
   "outputs": [
    {
     "name": "stdout",
     "output_type": "stream",
     "text": [
      "[[1.   0.33 0.44 0.17 0.57]\n",
      " [0.5  0.56 0.67 0.14 0.71]\n",
      " [0.4  0.56 0.78 0.5  0.86]\n",
      " [0.67 0.44 0.56 1.   1.  ]\n",
      " [0.5  0.89 0.22 0.33 0.43]\n",
      " [0.5  0.44 0.56 0.12 0.71]\n",
      " [0.25 0.89 0.78 1.   0.57]\n",
      " [1.   1.   1.   0.5  0.43]]\n"
     ]
    }
   ],
   "source": [
    "def normalisasi(data):\n",
    "    x,y = data.shape\n",
    "    R = []\n",
    "    for i in range(x):\n",
    "        r=[]\n",
    "        for j in range(y):\n",
    "            if attribute[j] == 0:\n",
    "    #             print(data[i,j],\" min:\",np.min(data[:,j]))\n",
    "                r_ = round(np.min(data[:,j])/data[i,j],2)\n",
    "            else:\n",
    "    #             print(data[i,j],\" max:\",np.max(data[:,j]))\n",
    "                r_ = round(data[i,j]/np.max(data[:,j]),2)\n",
    "            r.append(r_)\n",
    "        R.append(r)\n",
    "\n",
    "    R = np.array(R).astype(float)\n",
    "    return R\n",
    "R = normalisasi(data)\n",
    "print(R)"
   ]
  },
  {
   "cell_type": "code",
   "execution_count": 35,
   "metadata": {},
   "outputs": [],
   "source": [
    "def Weighting(R):\n",
    "    x, y = R.shape \n",
    "    V = []\n",
    "    for i in range(x):\n",
    "        v = 0\n",
    "        for j in range(y):\n",
    "            v += R[i,j] * w[j]\n",
    "        V.append(round(v,2))\n",
    "    return V\n"
   ]
  },
  {
   "cell_type": "code",
   "execution_count": 36,
   "metadata": {},
   "outputs": [
    {
     "name": "stdout",
     "output_type": "stream",
     "text": [
      "[0.53, 0.47, 0.59, 0.78, 0.45, 0.44, 0.67, 0.75]\n"
     ]
    }
   ],
   "source": [
    "V = Weighting(R)\n",
    "print(V)"
   ]
  },
  {
   "cell_type": "code",
   "execution_count": 37,
   "metadata": {},
   "outputs": [
    {
     "name": "stdout",
     "output_type": "stream",
     "text": [
      "V- 1 : 0.53\n",
      "V- 2 : 0.47\n",
      "V- 3 : 0.59\n",
      "V- 4 : 0.78==>winner\n",
      "V- 5 : 0.45\n",
      "V- 6 : 0.44\n",
      "V- 7 : 0.67\n",
      "V- 8 : 0.75\n"
     ]
    }
   ],
   "source": [
    "x=1\n",
    "win = np.max(V)\n",
    "for i in V:\n",
    "    \n",
    "    print('V-',x,':',i,end=\"\")\n",
    "    if(i>=win):\n",
    "        print('==>winner')\n",
    "    else:\n",
    "        print('')\n",
    "    x+=1\n",
    "    "
   ]
  }
 ],
 "metadata": {
  "kernelspec": {
   "display_name": "Python 3",
   "language": "python",
   "name": "python3"
  },
  "language_info": {
   "codemirror_mode": {
    "name": "ipython",
    "version": 3
   },
   "file_extension": ".py",
   "mimetype": "text/x-python",
   "name": "python",
   "nbconvert_exporter": "python",
   "pygments_lexer": "ipython3",
   "version": "3.6.5"
  }
 },
 "nbformat": 4,
 "nbformat_minor": 2
}
