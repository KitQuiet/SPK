{
 "cells": [
  {
   "cell_type": "code",
   "execution_count": 36,
   "metadata": {},
   "outputs": [],
   "source": [
    "data = [[2,3,4,6,4],\n",
    "        [4,5,6,7,5],\n",
    "        [5,5,7,2,6],\n",
    "        [3,4,5,1,7],\n",
    "        [4,8,2,3,3],\n",
    "        [4,4,5,8,5],\n",
    "        [8,8,7,1,4],\n",
    "       [2,3,9,9,1]]\n",
    "\n",
    "bobot = [4,2,2,4,3]\n",
    "attribute = [0,1,1,0,1]\n",
    "\n",
    "# atribut:\n",
    "#     benefit = 1\n",
    "#     cost = 0\n",
    "    \n"
   ]
  },
  {
   "cell_type": "code",
   "execution_count": 37,
   "metadata": {},
   "outputs": [
    {
     "name": "stdout",
     "output_type": "stream",
     "text": [
      "[[2. 3. 4. 6. 4.]\n",
      " [4. 5. 6. 7. 5.]\n",
      " [5. 5. 7. 2. 6.]\n",
      " [3. 4. 5. 1. 7.]\n",
      " [4. 8. 2. 3. 3.]\n",
      " [4. 4. 5. 8. 5.]\n",
      " [8. 8. 7. 1. 4.]\n",
      " [2. 3. 9. 9. 1.]]\n"
     ]
    }
   ],
   "source": [
    "import numpy as np\n",
    "#data list>array\n",
    "data = np.array(data).astype(float)\n",
    "print(data)"
   ]
  },
  {
   "cell_type": "code",
   "execution_count": 38,
   "metadata": {},
   "outputs": [
    {
     "name": "stdout",
     "output_type": "stream",
     "text": [
      "[0.27, 0.13, 0.13, 0.27, 0.2]\n"
     ]
    }
   ],
   "source": [
    "#menyesuaikan bobot\n",
    "w = [round(x/np.sum(bobot),2) for x in bobot]\n",
    "# w = []\n",
    "# for x in bobot:\n",
    "#     w_ = round(x/np.sum(bobot),2)\n",
    "#     w.append(w_)\n",
    "print(w)"
   ]
  },
  {
   "cell_type": "code",
   "execution_count": 39,
   "metadata": {},
   "outputs": [
    {
     "name": "stdout",
     "output_type": "stream",
     "text": [
      "8\n",
      "5\n"
     ]
    }
   ],
   "source": [
    "x, y = data.shape\n",
    "print(x)\n",
    "print(y)"
   ]
  },
  {
   "cell_type": "code",
   "execution_count": null,
   "metadata": {},
   "outputs": [],
   "source": []
  },
  {
   "cell_type": "code",
   "execution_count": 40,
   "metadata": {},
   "outputs": [
    {
     "name": "stdout",
     "output_type": "stream",
     "text": [
      "[[1.   0.38 0.44 0.17 0.57]\n",
      " [0.5  0.62 0.67 0.14 0.71]\n",
      " [0.4  0.62 0.78 0.5  0.86]\n",
      " [0.67 0.5  0.56 1.   1.  ]\n",
      " [0.5  1.   0.22 0.33 0.43]\n",
      " [0.5  0.5  0.56 0.12 0.71]\n",
      " [0.25 1.   0.78 1.   0.57]\n",
      " [1.   0.38 1.   0.11 0.14]]\n"
     ]
    }
   ],
   "source": [
    "# print(attribute)\n",
    "def normalisasi(data):\n",
    "    x, y = data.shape\n",
    "    R = []\n",
    "    for i in range(x):\n",
    "        r = []\n",
    "        for j in range(y):\n",
    "            if attribute[j] == 0:\n",
    "    #             print(data[i,j])\n",
    "    #             print('min:', np.min(data[:,j]))\n",
    "                r_ = round(np.min(data[:,j])/data[i,j],2)\n",
    "\n",
    "            else:\n",
    "    #             print(data[i,j])\n",
    "    #             print('max:', np.max(data[:,j]))\n",
    "                r_ = round(data[i,j]/np.max(data[:,j]),2)\n",
    "\n",
    "            r.append(r_)\n",
    "        R.append(r)\n",
    "    R = np.array(R).astype(float)\n",
    "    return R\n",
    "R = normalisasi(data)\n",
    "print(R)\n"
   ]
  },
  {
   "cell_type": "code",
   "execution_count": 44,
   "metadata": {},
   "outputs": [
    {
     "name": "stdout",
     "output_type": "stream",
     "text": [
      "[0.54, 0.48, 0.6, 0.79, 0.47, 0.45, 0.68, 0.51]\n"
     ]
    }
   ],
   "source": [
    "\n",
    "def Final(R):\n",
    "    x, y = R.shape\n",
    "    Hasil = []\n",
    "    for i in range(x):\n",
    "        a = 0\n",
    "        for j in range(y):\n",
    "            a += R[i,j]*w[j]\n",
    "        Hasil.append(round(a,2))\n",
    "    return Hasil\n",
    "\n",
    "Hasil = Final(R)\n",
    "print(Hasil)        \n",
    "        "
   ]
  },
  {
   "cell_type": "code",
   "execution_count": 42,
   "metadata": {},
   "outputs": [
    {
     "name": "stdout",
     "output_type": "stream",
     "text": [
      "V- 1 : 0.54\n",
      "V- 2 : 0.48\n",
      "V- 3 : 0.6\n",
      "V- 4 : 0.79==> Winner\n",
      "V- 5 : 0.47\n",
      "V- 6 : 0.45\n",
      "V- 7 : 0.68\n",
      "V- 8 : 0.51\n"
     ]
    }
   ],
   "source": [
    "v=1\n",
    "winner = np.max(Hasil)\n",
    "for i in Hasil:\n",
    "    print('V-',v,':',i,end=\"\")\n",
    "    if(i>=winner):\n",
    "        print('==> Winner')\n",
    "    else:\n",
    "        print('')\n",
    "    v+=1"
   ]
  },
  {
   "cell_type": "code",
   "execution_count": null,
   "metadata": {},
   "outputs": [],
   "source": []
  }
 ],
 "metadata": {
  "kernelspec": {
   "display_name": "Python 3",
   "language": "python",
   "name": "python3"
  },
  "language_info": {
   "codemirror_mode": {
    "name": "ipython",
    "version": 3
   },
   "file_extension": ".py",
   "mimetype": "text/x-python",
   "name": "python",
   "nbconvert_exporter": "python",
   "pygments_lexer": "ipython3",
   "version": "3.6.5"
  }
 },
 "nbformat": 4,
 "nbformat_minor": 2
}
