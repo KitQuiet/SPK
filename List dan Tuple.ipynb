{
 "cells": [
  {
   "cell_type": "markdown",
   "metadata": {},
   "source": [
    "## List "
   ]
  },
  {
   "cell_type": "markdown",
   "metadata": {},
   "source": [
    "<img src=\"images/list01.jpeg\"/>"
   ]
  },
  {
   "cell_type": "markdown",
   "metadata": {},
   "source": [
    "<img src=\"images/list02.jpeg\"/>\n",
    "<img src=\"images/list03.jpeg\"/>"
   ]
  },
  {
   "cell_type": "code",
   "execution_count": 52,
   "metadata": {},
   "outputs": [
    {
     "name": "stdout",
     "output_type": "stream",
     "text": [
      "[2, 3, 4, 5, 6, 7, 8, 9]\n",
      "[1, 3, 4, 5, 6, 6, 7]\n"
     ]
    }
   ],
   "source": [
    "list1 = [2,3,4,5,6,7,8,9]\n",
    "list2 = [1,3,4,5,6,6,7]\n",
    "print(list1)\n",
    "print(list2)"
   ]
  },
  {
   "cell_type": "code",
   "execution_count": 11,
   "metadata": {},
   "outputs": [
    {
     "name": "stdout",
     "output_type": "stream",
     "text": [
      "list1 berisikan: 7\n",
      "[2, 3, 4, 5, 6, 7, 8, 9, 1, 3, 4, 5, 6, 6, 7]\n",
      "[2, 3, 4, 5, 6, 7, 8, 9, 2, 3, 4, 5, 6, 7, 8, 9, 2, 3, 4, 5, 6, 7, 8, 9]\n",
      "dalam list1 apakah ada angka 3: True\n",
      "dalam list1 apakah ada angka 13: False\n"
     ]
    }
   ],
   "source": [
    "print(\"list1 berisikan:\", len(list2))\n",
    "print(list1 + list2)\n",
    "print(list1*3)\n",
    "print(\"dalam list1 apakah ada angka 3:\", 3 in list1)\n",
    "print(\"dalam list1 apakah ada angka 13:\", 13 in list1)\n"
   ]
  },
  {
   "cell_type": "code",
   "execution_count": 12,
   "metadata": {},
   "outputs": [
    {
     "name": "stdout",
     "output_type": "stream",
     "text": [
      "2\n",
      "3\n",
      "4\n",
      "5\n",
      "6\n",
      "7\n",
      "8\n",
      "9\n"
     ]
    }
   ],
   "source": [
    "for i in list1: print(i)"
   ]
  },
  {
   "cell_type": "code",
   "execution_count": 14,
   "metadata": {},
   "outputs": [
    {
     "name": "stdout",
     "output_type": "stream",
     "text": [
      "0\n",
      "1\n",
      "2\n",
      "3\n",
      "4\n",
      "5\n",
      "6\n",
      "7\n"
     ]
    }
   ],
   "source": [
    "for i in range(len(list1)): print(i)"
   ]
  },
  {
   "cell_type": "code",
   "execution_count": 53,
   "metadata": {},
   "outputs": [
    {
     "data": {
      "text/plain": [
       "[2, 3, 4, 5, 6, 7, 8, 9]"
      ]
     },
     "execution_count": 53,
     "metadata": {},
     "output_type": "execute_result"
    }
   ],
   "source": [
    "list1"
   ]
  },
  {
   "cell_type": "code",
   "execution_count": 56,
   "metadata": {},
   "outputs": [
    {
     "name": "stdout",
     "output_type": "stream",
     "text": [
      "[9, 7, 5, 3]\n"
     ]
    }
   ],
   "source": [
    "print(list1[::-2])"
   ]
  },
  {
   "cell_type": "code",
   "execution_count": 21,
   "metadata": {},
   "outputs": [
    {
     "name": "stdout",
     "output_type": "stream",
     "text": [
      "5\n",
      "[3, 4, 5, 6]\n",
      "9\n",
      "8\n",
      "[2, 3, 4, 5]\n",
      "[6, 7, 8, 9]\n"
     ]
    }
   ],
   "source": [
    "print(list1[3]) #5\n",
    "print(list1[1:5]) # x>=1 and x<5\n",
    "print(list1[-1])\n",
    "print(list1[-2])\n",
    "\n",
    "print(list1[:4])\n",
    "print(list1[4:])\n"
   ]
  },
  {
   "cell_type": "code",
   "execution_count": 23,
   "metadata": {},
   "outputs": [
    {
     "name": "stdout",
     "output_type": "stream",
     "text": [
      "[2, 3, 4, 5, 6]\n",
      "[7, 8, 9]\n"
     ]
    }
   ],
   "source": [
    "print(list1[:-3])\n",
    "print(list1[-3:])"
   ]
  },
  {
   "cell_type": "code",
   "execution_count": null,
   "metadata": {},
   "outputs": [],
   "source": []
  },
  {
   "cell_type": "code",
   "execution_count": null,
   "metadata": {},
   "outputs": [],
   "source": []
  },
  {
   "cell_type": "code",
   "execution_count": null,
   "metadata": {},
   "outputs": [],
   "source": []
  },
  {
   "cell_type": "code",
   "execution_count": null,
   "metadata": {},
   "outputs": [],
   "source": []
  },
  {
   "cell_type": "code",
   "execution_count": null,
   "metadata": {},
   "outputs": [],
   "source": []
  },
  {
   "cell_type": "markdown",
   "metadata": {},
   "source": [
    "## Tuple "
   ]
  },
  {
   "cell_type": "markdown",
   "metadata": {},
   "source": [
    "<img src=\"images/tuple01.jpeg\"/>"
   ]
  },
  {
   "cell_type": "markdown",
   "metadata": {},
   "source": [
    "<img src=\"images/tuple02.jpeg\"/>"
   ]
  },
  {
   "cell_type": "code",
   "execution_count": null,
   "metadata": {},
   "outputs": [],
   "source": []
  },
  {
   "cell_type": "code",
   "execution_count": null,
   "metadata": {},
   "outputs": [],
   "source": []
  },
  {
   "cell_type": "code",
   "execution_count": null,
   "metadata": {},
   "outputs": [],
   "source": []
  },
  {
   "cell_type": "code",
   "execution_count": null,
   "metadata": {},
   "outputs": [],
   "source": []
  },
  {
   "cell_type": "code",
   "execution_count": null,
   "metadata": {},
   "outputs": [],
   "source": []
  },
  {
   "cell_type": "code",
   "execution_count": null,
   "metadata": {},
   "outputs": [],
   "source": []
  },
  {
   "cell_type": "markdown",
   "metadata": {},
   "source": [
    "## Array "
   ]
  },
  {
   "cell_type": "code",
   "execution_count": 57,
   "metadata": {},
   "outputs": [],
   "source": [
    "import numpy as np\n"
   ]
  },
  {
   "cell_type": "code",
   "execution_count": null,
   "metadata": {},
   "outputs": [],
   "source": []
  },
  {
   "cell_type": "code",
   "execution_count": 25,
   "metadata": {},
   "outputs": [
    {
     "name": "stdout",
     "output_type": "stream",
     "text": [
      "[2, 4, 3, 5, 4, 7, 8, -8]\n",
      "[ 2.  4.  3.  5.  4.  7.  8. -8.]\n"
     ]
    }
   ],
   "source": [
    "list1 = [2,4,3,5,4,7,8,-8]\n",
    "array1 = np.array(list1).astype(float)\n",
    "\n",
    "print(list1)\n",
    "print(array1)"
   ]
  },
  {
   "cell_type": "code",
   "execution_count": 26,
   "metadata": {},
   "outputs": [
    {
     "name": "stdout",
     "output_type": "stream",
     "text": [
      "[2, 4, 3, 5, 4, 7, 8, -8, 2, 4, 3, 5, 4, 7, 8, -8]\n",
      "[  4.   8.   6.  10.   8.  14.  16. -16.]\n"
     ]
    }
   ],
   "source": [
    "print(list1*2)\n",
    "print(array1*2)"
   ]
  },
  {
   "cell_type": "code",
   "execution_count": null,
   "metadata": {},
   "outputs": [],
   "source": []
  },
  {
   "cell_type": "code",
   "execution_count": 28,
   "metadata": {},
   "outputs": [],
   "source": [
    "# Matriks 2 dimensi\n",
    "list_2D = [[2, 3, 4, -5, 9], [5, 6, 7, -9, 5], [7, -7, 8, 1, 2], [4, -4, 5, 6, 7],[8, 9, 9, -2, -3]]"
   ]
  },
  {
   "cell_type": "code",
   "execution_count": 29,
   "metadata": {},
   "outputs": [
    {
     "name": "stdout",
     "output_type": "stream",
     "text": [
      "[[2, 3, 4, -5, 9], [5, 6, 7, -9, 5], [7, -7, 8, 1, 2], [4, -4, 5, 6, 7], [8, 9, 9, -2, -3]]\n"
     ]
    }
   ],
   "source": [
    "print(list_2D)"
   ]
  },
  {
   "cell_type": "code",
   "execution_count": 59,
   "metadata": {},
   "outputs": [
    {
     "name": "stdout",
     "output_type": "stream",
     "text": [
      "[[ 2.  3.  4. -5.  9.]\n",
      " [ 5.  6.  7. -9.  5.]\n",
      " [ 7. -7.  8.  1.  2.]\n",
      " [ 4. -4.  5.  6.  7.]\n",
      " [ 8.  9.  9. -2. -3.]]\n"
     ]
    }
   ],
   "source": [
    "matriks = np.array(list_2D).astype(float)\n",
    "print(matriks)"
   ]
  },
  {
   "cell_type": "code",
   "execution_count": 61,
   "metadata": {},
   "outputs": [
    {
     "name": "stdout",
     "output_type": "stream",
     "text": [
      "[ 7. -7.  8.  1.  2.]\n",
      "[ 8.  9.  9. -2. -3.]\n"
     ]
    }
   ],
   "source": [
    "print(matriks[2])\n",
    "print(matriks[-1])"
   ]
  },
  {
   "cell_type": "code",
   "execution_count": 72,
   "metadata": {},
   "outputs": [
    {
     "name": "stdout",
     "output_type": "stream",
     "text": [
      "[[ 2.  3.  4. -5.  9.]\n",
      " [ 5.  6.  7. -9.  5.]\n",
      " [ 7. -7.  8.  1.  2.]\n",
      " [ 4. -4.  5.  6.  7.]\n",
      " [ 8.  9.  9. -2. -3.]]\n"
     ]
    }
   ],
   "source": [
    "print(matriks[:,:])"
   ]
  },
  {
   "cell_type": "code",
   "execution_count": 92,
   "metadata": {},
   "outputs": [],
   "source": [
    "x = np.array([0, 0, -1, -2]).astype(float)\n",
    "y = x/-1"
   ]
  },
  {
   "cell_type": "code",
   "execution_count": 91,
   "metadata": {},
   "outputs": [
    {
     "name": "stdout",
     "output_type": "stream",
     "text": [
      "[-0. -0.  2.  4.]\n",
      "0.0\n"
     ]
    }
   ],
   "source": [
    "print(y*2)\n",
    "print(y[0]/)"
   ]
  },
  {
   "cell_type": "code",
   "execution_count": 64,
   "metadata": {},
   "outputs": [
    {
     "name": "stdout",
     "output_type": "stream",
     "text": [
      "[ 3.  6. -7. -4.  9.]\n"
     ]
    }
   ],
   "source": [
    "print(matriks[:,1])"
   ]
  },
  {
   "cell_type": "code",
   "execution_count": 65,
   "metadata": {},
   "outputs": [
    {
     "name": "stdout",
     "output_type": "stream",
     "text": [
      "-9.0\n"
     ]
    }
   ],
   "source": [
    "print(matriks[1,3])"
   ]
  },
  {
   "cell_type": "code",
   "execution_count": 66,
   "metadata": {},
   "outputs": [
    {
     "name": "stdout",
     "output_type": "stream",
     "text": [
      "[[8. 1.]\n",
      " [5. 6.]]\n"
     ]
    }
   ],
   "source": [
    "print(matriks[2:4,2:4])"
   ]
  },
  {
   "cell_type": "code",
   "execution_count": null,
   "metadata": {},
   "outputs": [],
   "source": [
    "r11 = m11/max(C1)\n",
    "r21 = m21/max(C1)"
   ]
  },
  {
   "cell_type": "code",
   "execution_count": 67,
   "metadata": {},
   "outputs": [
    {
     "name": "stdout",
     "output_type": "stream",
     "text": [
      "[2. 5. 7. 4. 8.]\n"
     ]
    }
   ],
   "source": [
    "C1 = matriks[:,0]\n",
    "print(C1)"
   ]
  },
  {
   "cell_type": "code",
   "execution_count": 86,
   "metadata": {},
   "outputs": [
    {
     "name": "stdout",
     "output_type": "stream",
     "text": [
      "r11: 0.25\n",
      "r21: 0.62\n"
     ]
    }
   ],
   "source": [
    "r11 = matriks[0,0]/np.max(C1)\n",
    "r21 = matriks[1,0]/np.max(C1)\n",
    "print('r11:',round(r11,2))\n",
    "print('r21:',round(r21,2))"
   ]
  }
 ],
 "metadata": {
  "kernelspec": {
   "display_name": "Python 3",
   "language": "python",
   "name": "python3"
  },
  "language_info": {
   "codemirror_mode": {
    "name": "ipython",
    "version": 3
   },
   "file_extension": ".py",
   "mimetype": "text/x-python",
   "name": "python",
   "nbconvert_exporter": "python",
   "pygments_lexer": "ipython3",
   "version": "3.6.5"
  }
 },
 "nbformat": 4,
 "nbformat_minor": 2
}
