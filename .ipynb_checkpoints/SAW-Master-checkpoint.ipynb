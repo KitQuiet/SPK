{
 "cells": [
  {
   "cell_type": "code",
   "execution_count": 1,
   "metadata": {},
   "outputs": [],
   "source": [
    "data = [[2,3,4,6],[4,5,6,7],[5,5,7,2],[3,4,5,1],[4,8,2,3],[4,4,5,8]]\n",
    "\n",
    "bobot = [4,2,2,4]\n",
    "\n",
    "# atribut:\n",
    "#     benefit = 1\n",
    "#     cost = 0\n",
    "    \n",
    "attribute = [0,1,1,0]\n",
    "\n",
    "\n"
   ]
  },
  {
   "cell_type": "code",
   "execution_count": 2,
   "metadata": {},
   "outputs": [
    {
     "name": "stdout",
     "output_type": "stream",
     "text": [
      "[[2. 3. 4. 6.]\n",
      " [4. 5. 6. 7.]\n",
      " [5. 5. 7. 2.]\n",
      " [3. 4. 5. 1.]\n",
      " [4. 8. 2. 3.]\n",
      " [4. 4. 5. 8.]]\n"
     ]
    }
   ],
   "source": [
    "import numpy as np\n",
    "data = np.array(data).astype(float)\n",
    "\n",
    "print(data)"
   ]
  },
  {
   "cell_type": "code",
   "execution_count": 3,
   "metadata": {},
   "outputs": [],
   "source": [
    "#bobot\n",
    "bobot = [x/np.sum(bobot) for x in bobot]\n"
   ]
  },
  {
   "cell_type": "code",
   "execution_count": 4,
   "metadata": {},
   "outputs": [
    {
     "name": "stdout",
     "output_type": "stream",
     "text": [
      "[0.33, 0.17, 0.17, 0.33]\n",
      "1.0\n"
     ]
    }
   ],
   "source": [
    "bobot = [round(x,2) for x in bobot]\n",
    "print(bobot)\n",
    "print(np.sum(bobot))"
   ]
  },
  {
   "cell_type": "code",
   "execution_count": 5,
   "metadata": {},
   "outputs": [
    {
     "name": "stdout",
     "output_type": "stream",
     "text": [
      "6 4\n"
     ]
    }
   ],
   "source": [
    "x, y = data.shape\n",
    "print(x,y)"
   ]
  },
  {
   "cell_type": "code",
   "execution_count": 6,
   "metadata": {},
   "outputs": [],
   "source": [
    "def normalisasi(data):\n",
    "    x, y = data.shape\n",
    "    data_normal=[]\n",
    "    for i in range(x):\n",
    "        data_=[]\n",
    "        for j in range(y):\n",
    "\n",
    "            if attribute[j] == 0:\n",
    "                r = round(np.min(data[:,j])/data[i,j],2)\n",
    "    #             print(data[i,j], \"min:\", np.min(data[:,j]))\n",
    "\n",
    "            else:\n",
    "                r = round(data[i,j]/np.max(data[:,j]),2)\n",
    "    #             print(data[i,j],\"max:\", np.max(data[:,j]))\n",
    "\n",
    "            data_.append(r)\n",
    "    #     print(data_)\n",
    "        data_normal.append(data_)\n",
    "    data_normal = np.array(data_normal).astype(float)\n",
    "#     print(data_normal)\n",
    "    return data_normal"
   ]
  },
  {
   "cell_type": "code",
   "execution_count": 7,
   "metadata": {},
   "outputs": [],
   "source": [
    "matriks_normalisasi = normalisasi(data)"
   ]
  },
  {
   "cell_type": "code",
   "execution_count": 8,
   "metadata": {},
   "outputs": [
    {
     "name": "stdout",
     "output_type": "stream",
     "text": [
      "[[1.   0.38 0.57 0.17]\n",
      " [0.5  0.62 0.86 0.14]\n",
      " [0.4  0.62 1.   0.5 ]\n",
      " [0.67 0.5  0.71 1.  ]\n",
      " [0.5  1.   0.29 0.33]\n",
      " [0.5  0.5  0.71 0.12]]\n"
     ]
    }
   ],
   "source": [
    "print(matriks_normalisasi)"
   ]
  },
  {
   "cell_type": "code",
   "execution_count": 9,
   "metadata": {},
   "outputs": [
    {
     "data": {
      "text/plain": [
       "6"
      ]
     },
     "execution_count": 9,
     "metadata": {},
     "output_type": "execute_result"
    }
   ],
   "source": [
    "y"
   ]
  },
  {
   "cell_type": "code",
   "execution_count": null,
   "metadata": {},
   "outputs": [],
   "source": []
  }
 ],
 "metadata": {
  "kernelspec": {
   "display_name": "Python 3",
   "language": "python",
   "name": "python3"
  },
  "language_info": {
   "codemirror_mode": {
    "name": "ipython",
    "version": 3
   },
   "file_extension": ".py",
   "mimetype": "text/x-python",
   "name": "python",
   "nbconvert_exporter": "python",
   "pygments_lexer": "ipython3",
   "version": "3.6.5"
  }
 },
 "nbformat": 4,
 "nbformat_minor": 2
}
