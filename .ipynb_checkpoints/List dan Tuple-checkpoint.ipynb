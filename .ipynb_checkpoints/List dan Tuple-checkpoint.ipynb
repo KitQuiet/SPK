{
 "cells": [
  {
   "cell_type": "markdown",
   "metadata": {},
   "source": [
    "## List "
   ]
  },
  {
   "cell_type": "markdown",
   "metadata": {},
   "source": [
    "<img src=\"images/list01.jpeg\"/>"
   ]
  },
  {
   "cell_type": "markdown",
   "metadata": {},
   "source": [
    "<img src=\"images/list02.jpeg\"/>\n",
    "<img src=\"images/list03.jpeg\"/>"
   ]
  },
  {
   "cell_type": "code",
   "execution_count": 61,
   "metadata": {},
   "outputs": [
    {
     "name": "stdout",
     "output_type": "stream",
     "text": [
      "[2, 3, 4, 5, 6, 7, 8, 9]\n",
      "[1, 3, 4, 5, 6, 6, 7]\n"
     ]
    }
   ],
   "source": [
    "list1 = [2,3,4,5,6,7,8,9]\n",
    "list2 = [1,3,4,5,6,6,7]\n",
    "print(list1)\n",
    "print(list2)"
   ]
  },
  {
   "cell_type": "code",
   "execution_count": 66,
   "metadata": {},
   "outputs": [
    {
     "name": "stdout",
     "output_type": "stream",
     "text": [
      "jumlah data: 8\n",
      "menggabungkan list:  [2, 3, 4, 5, 6, 7, 8, 9, 1, 3, 4, 5, 6, 6, 7]\n",
      "mengulang list:  [2, 3, 4, 5, 6, 7, 8, 9, 2, 3, 4, 5, 6, 7, 8, 9, 2, 3, 4, 5, 6, 7, 8, 9]\n",
      "apakah nilai 3 ada di dalam list1? True\n",
      "apakah nilai 13 ada di dalam list1? False\n"
     ]
    }
   ],
   "source": [
    "print('jumlah data:',len(list1))\n",
    "print('menggabungkan list: ', list1+list2)\n",
    "print('mengulang list: ', list1*3)\n",
    "print('apakah nilai 3 ada di dalam list1?', 3 in list1)\n",
    "print('apakah nilai 13 ada di dalam list1?', 13 in list1)"
   ]
  },
  {
   "cell_type": "code",
   "execution_count": 70,
   "metadata": {},
   "outputs": [
    {
     "name": "stdout",
     "output_type": "stream",
     "text": [
      "data index 0: 2\n",
      "data index 4: 6\n"
     ]
    }
   ],
   "source": [
    "print('data index 0:', list1[0])\n",
    "print('data index 4:', list1[4])"
   ]
  },
  {
   "cell_type": "code",
   "execution_count": 71,
   "metadata": {},
   "outputs": [
    {
     "name": "stdout",
     "output_type": "stream",
     "text": [
      "data index  0 : 2\n",
      "data index  1 : 3\n",
      "data index  2 : 4\n",
      "data index  3 : 5\n",
      "data index  4 : 6\n",
      "data index  5 : 7\n",
      "data index  6 : 8\n",
      "data index  7 : 9\n"
     ]
    }
   ],
   "source": [
    "x=0\n",
    "for i in list1:\n",
    "    print('data index ', x, ':',i)\n",
    "    x+=1"
   ]
  },
  {
   "cell_type": "code",
   "execution_count": 73,
   "metadata": {},
   "outputs": [
    {
     "name": "stdout",
     "output_type": "stream",
     "text": [
      "[2, 3, 4, 5, 6, 7, 8, 9]\n"
     ]
    }
   ],
   "source": [
    "print(list1)"
   ]
  },
  {
   "cell_type": "code",
   "execution_count": 76,
   "metadata": {},
   "outputs": [
    {
     "name": "stdout",
     "output_type": "stream",
     "text": [
      "angka terakhir:  9\n",
      "angka ke-2 terakhir:  8\n"
     ]
    }
   ],
   "source": [
    "print('angka terakhir: ',list1[-1])\n",
    "print('angka ke-2 terakhir: ',list1[-2])"
   ]
  },
  {
   "cell_type": "code",
   "execution_count": 80,
   "metadata": {},
   "outputs": [
    {
     "name": "stdout",
     "output_type": "stream",
     "text": [
      "[4, 5, 6]\n",
      "[2, 3, 4, 5, 6]\n",
      "[4, 5, 6, 7, 8, 9]\n"
     ]
    }
   ],
   "source": [
    "print(list1[2:5]) #x>=2 and x<5\n",
    "print(list1[:5])\n",
    "print(list1[2:])"
   ]
  },
  {
   "cell_type": "code",
   "execution_count": 83,
   "metadata": {},
   "outputs": [
    {
     "name": "stdout",
     "output_type": "stream",
     "text": [
      "mencetak 3 angka terakhir: [7, 8, 9]\n",
      "mencetak semua, kecuali 3 angka terakhir [2, 3, 4, 5, 6]\n"
     ]
    }
   ],
   "source": [
    "print('mencetak 3 angka terakhir:', list1[-3:])\n",
    "print('mencetak semua, kecuali 3 angka terakhir', list1[:-3])"
   ]
  },
  {
   "cell_type": "code",
   "execution_count": null,
   "metadata": {},
   "outputs": [],
   "source": []
  },
  {
   "cell_type": "markdown",
   "metadata": {},
   "source": [
    "## Tuple "
   ]
  },
  {
   "cell_type": "markdown",
   "metadata": {},
   "source": [
    "<img src=\"images/tuple01.jpeg\"/>"
   ]
  },
  {
   "cell_type": "markdown",
   "metadata": {},
   "source": [
    "<img src=\"images/tuple02.jpeg\"/>"
   ]
  },
  {
   "cell_type": "code",
   "execution_count": null,
   "metadata": {},
   "outputs": [],
   "source": []
  },
  {
   "cell_type": "code",
   "execution_count": null,
   "metadata": {},
   "outputs": [],
   "source": []
  },
  {
   "cell_type": "code",
   "execution_count": null,
   "metadata": {},
   "outputs": [],
   "source": []
  },
  {
   "cell_type": "code",
   "execution_count": null,
   "metadata": {},
   "outputs": [],
   "source": []
  },
  {
   "cell_type": "code",
   "execution_count": null,
   "metadata": {},
   "outputs": [],
   "source": []
  },
  {
   "cell_type": "code",
   "execution_count": null,
   "metadata": {},
   "outputs": [],
   "source": []
  },
  {
   "cell_type": "markdown",
   "metadata": {},
   "source": [
    "## Array "
   ]
  },
  {
   "cell_type": "code",
   "execution_count": 84,
   "metadata": {},
   "outputs": [],
   "source": [
    "import numpy as np\n"
   ]
  },
  {
   "cell_type": "code",
   "execution_count": 85,
   "metadata": {},
   "outputs": [
    {
     "name": "stdout",
     "output_type": "stream",
     "text": [
      "[2, 4, 3, 5, 4, 7, 8, -8]\n",
      "[ 2.  4.  3.  5.  4.  7.  8. -8.]\n"
     ]
    }
   ],
   "source": [
    "list1 = [2,4,3,5,4,7,8,-8]\n",
    "array1 = np.array(list1).astype(float)\n",
    "\n",
    "print(list1)\n",
    "print(array1)"
   ]
  },
  {
   "cell_type": "code",
   "execution_count": 86,
   "metadata": {},
   "outputs": [
    {
     "name": "stdout",
     "output_type": "stream",
     "text": [
      "[2, 4, 3, 5, 4, 7, 8, -8, 2, 4, 3, 5, 4, 7, 8, -8]\n",
      "[  4.   8.   6.  10.   8.  14.  16. -16.]\n"
     ]
    }
   ],
   "source": [
    "print(list1 * 2)\n",
    "print(array1 * 2)"
   ]
  },
  {
   "cell_type": "code",
   "execution_count": 87,
   "metadata": {},
   "outputs": [],
   "source": [
    "# Matriks 2 dimensi\n",
    "list_2D = [[2, 3, 4, -5, 9], [5, 6, 7, -9, 5], [7, -7, 8, 1, 2], [4, -4, 5, 6, 7],[8, 9, 9, -2, -3]]"
   ]
  },
  {
   "cell_type": "code",
   "execution_count": 88,
   "metadata": {},
   "outputs": [
    {
     "name": "stdout",
     "output_type": "stream",
     "text": [
      "[[2, 3, 4, -5, 9], [5, 6, 7, -9, 5], [7, -7, 8, 1, 2], [4, -4, 5, 6, 7], [8, 9, 9, -2, -3]]\n"
     ]
    }
   ],
   "source": [
    "print(list_2D)"
   ]
  },
  {
   "cell_type": "code",
   "execution_count": 89,
   "metadata": {},
   "outputs": [
    {
     "name": "stdout",
     "output_type": "stream",
     "text": [
      "[[ 2.  3.  4. -5.  9.]\n",
      " [ 5.  6.  7. -9.  5.]\n",
      " [ 7. -7.  8.  1.  2.]\n",
      " [ 4. -4.  5.  6.  7.]\n",
      " [ 8.  9.  9. -2. -3.]]\n"
     ]
    }
   ],
   "source": [
    "matriks = np.array(list_2D).astype(float)\n",
    "print(matriks)"
   ]
  },
  {
   "cell_type": "code",
   "execution_count": 93,
   "metadata": {},
   "outputs": [
    {
     "name": "stdout",
     "output_type": "stream",
     "text": [
      "[[ 4. -4.  5.  6.  7.]\n",
      " [ 8.  9.  9. -2. -3.]]\n"
     ]
    }
   ],
   "source": [
    "print(matriks[-2:])"
   ]
  },
  {
   "cell_type": "code",
   "execution_count": 96,
   "metadata": {},
   "outputs": [
    {
     "name": "stdout",
     "output_type": "stream",
     "text": [
      "[4. 7. 8. 5. 9.]\n",
      "[ 3.  6. -7. -4.  9.]\n"
     ]
    }
   ],
   "source": [
    "print(matriks[:,2])\n",
    "print(matriks[:,1])"
   ]
  },
  {
   "cell_type": "code",
   "execution_count": 97,
   "metadata": {},
   "outputs": [
    {
     "name": "stdout",
     "output_type": "stream",
     "text": [
      "[2. 5. 7. 4. 8.]\n"
     ]
    }
   ],
   "source": [
    "C1 = matriks[:,0]\n",
    "print(C1)"
   ]
  },
  {
   "cell_type": "code",
   "execution_count": 98,
   "metadata": {},
   "outputs": [
    {
     "name": "stdout",
     "output_type": "stream",
     "text": [
      "[[ 2.  3.  4. -5.  9.]\n",
      " [ 5.  6.  7. -9.  5.]\n",
      " [ 7. -7.  8.  1.  2.]\n",
      " [ 4. -4.  5.  6.  7.]\n",
      " [ 8.  9.  9. -2. -3.]]\n"
     ]
    }
   ],
   "source": [
    "print(matriks)"
   ]
  },
  {
   "cell_type": "code",
   "execution_count": 99,
   "metadata": {},
   "outputs": [
    {
     "name": "stdout",
     "output_type": "stream",
     "text": [
      "-7.0\n"
     ]
    }
   ],
   "source": [
    "r32 = matriks[2,1]\n",
    "print(r32)"
   ]
  },
  {
   "cell_type": "code",
   "execution_count": 100,
   "metadata": {},
   "outputs": [
    {
     "name": "stdout",
     "output_type": "stream",
     "text": [
      "[[ 6.  7.]\n",
      " [-7.  8.]]\n"
     ]
    }
   ],
   "source": [
    "print(matriks[1:3,1:3])"
   ]
  },
  {
   "cell_type": "code",
   "execution_count": 101,
   "metadata": {},
   "outputs": [
    {
     "name": "stdout",
     "output_type": "stream",
     "text": [
      "[2. 5. 7. 4. 8.]\n"
     ]
    }
   ],
   "source": [
    "C1 = matriks[:,0]\n",
    "print(C1)"
   ]
  },
  {
   "cell_type": "code",
   "execution_count": 104,
   "metadata": {},
   "outputs": [],
   "source": [
    "# r11 = m11/max(c1)\n",
    "r11 = C1[0]/np.max(C1)\n",
    "r21 = C1[1]/np.max(C1)\n",
    "r31 = C1[2]/np.max(C1)"
   ]
  },
  {
   "cell_type": "code",
   "execution_count": 106,
   "metadata": {},
   "outputs": [
    {
     "name": "stdout",
     "output_type": "stream",
     "text": [
      "r11:  0.25\n",
      "r21:  0.62\n",
      "r31:  0.88\n"
     ]
    }
   ],
   "source": [
    "print('r11: ',round(r11,2))\n",
    "print('r21: ',round(r21,2))\n",
    "print('r31: ',round(r31,2))"
   ]
  },
  {
   "cell_type": "code",
   "execution_count": null,
   "metadata": {},
   "outputs": [],
   "source": []
  },
  {
   "cell_type": "code",
   "execution_count": null,
   "metadata": {},
   "outputs": [],
   "source": []
  },
  {
   "cell_type": "code",
   "execution_count": null,
   "metadata": {},
   "outputs": [],
   "source": []
  }
 ],
 "metadata": {
  "kernelspec": {
   "display_name": "Python 3",
   "language": "python",
   "name": "python3"
  },
  "language_info": {
   "codemirror_mode": {
    "name": "ipython",
    "version": 3
   },
   "file_extension": ".py",
   "mimetype": "text/x-python",
   "name": "python",
   "nbconvert_exporter": "python",
   "pygments_lexer": "ipython3",
   "version": "3.6.5"
  }
 },
 "nbformat": 4,
 "nbformat_minor": 2
}
