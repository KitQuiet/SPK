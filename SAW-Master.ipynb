{
 "cells": [
  {
   "cell_type": "code",
   "execution_count": 1,
   "metadata": {},
   "outputs": [],
   "source": [
    "data = [[2,3,4,6,4],[4,5,6,7,5],[5,5,7,2,6],[3,4,5,1,7],[4,8,2,3,3],[4,4,5,8,5],[8,8,7,1,4]]\n",
    "\n",
    "bobot = [4,2,2,4,3]\n",
    "\n",
    "# atribut:\n",
    "#     benefit = 1\n",
    "#     cost = 0\n",
    "    \n",
    "attribute = [0,1,1,0,1]\n",
    "\n",
    "\n"
   ]
  },
  {
   "cell_type": "code",
   "execution_count": null,
   "metadata": {},
   "outputs": [],
   "source": []
  },
  {
   "cell_type": "code",
   "execution_count": 2,
   "metadata": {},
   "outputs": [
    {
     "name": "stdout",
     "output_type": "stream",
     "text": [
      "[[2. 3. 4. 6. 4.]\n",
      " [4. 5. 6. 7. 5.]\n",
      " [5. 5. 7. 2. 6.]\n",
      " [3. 4. 5. 1. 7.]\n",
      " [4. 8. 2. 3. 3.]\n",
      " [4. 4. 5. 8. 5.]\n",
      " [8. 8. 7. 1. 4.]]\n",
      "[4, 2, 2, 4, 3]\n",
      "[0, 1, 1, 0, 1]\n"
     ]
    }
   ],
   "source": [
    "import numpy as np\n",
    "data = np.array(data).astype(float)\n",
    "\n",
    "print(data)\n",
    "print(bobot)\n",
    "print(attribute)"
   ]
  },
  {
   "cell_type": "code",
   "execution_count": 67,
   "metadata": {},
   "outputs": [],
   "source": [
    "#bobot\n",
    "bobot = [x/np.sum(bobot) for x in bobot]\n"
   ]
  },
  {
   "cell_type": "code",
   "execution_count": 68,
   "metadata": {},
   "outputs": [
    {
     "name": "stdout",
     "output_type": "stream",
     "text": [
      "[0.27, 0.13, 0.13, 0.27, 0.2]\n",
      "1.0\n"
     ]
    }
   ],
   "source": [
    "bobot = [round(x,2) for x in bobot]\n",
    "print(bobot)\n",
    "print(np.sum(bobot))"
   ]
  },
  {
   "cell_type": "code",
   "execution_count": 69,
   "metadata": {},
   "outputs": [
    {
     "name": "stdout",
     "output_type": "stream",
     "text": [
      "7 5\n"
     ]
    }
   ],
   "source": [
    "x, y = data.shape\n",
    "print(x,y)"
   ]
  },
  {
   "cell_type": "code",
   "execution_count": 70,
   "metadata": {},
   "outputs": [
    {
     "name": "stdout",
     "output_type": "stream",
     "text": [
      "OK, data bisa diproses!!!\n"
     ]
    }
   ],
   "source": [
    "if (y != len(bobot)):\n",
    "    print('jumlah kriteria dan bobot tidak sama!!!')\n",
    "elif(y!= len(attribute)):\n",
    "    print('jumlah atribute dan kriteria tidak sama!!!')\n",
    "else:\n",
    "    print('OK, data bisa diproses!!!')"
   ]
  },
  {
   "cell_type": "code",
   "execution_count": 43,
   "metadata": {},
   "outputs": [],
   "source": [
    "def normalisasi(data):\n",
    "    x, y = data.shape\n",
    "    data_normal=[]\n",
    "    for i in range(x):\n",
    "        data_=[]\n",
    "        for j in range(y):\n",
    "\n",
    "            if attribute[j] == 0:\n",
    "                r = round(np.min(data[:,j])/data[i,j],2)\n",
    "    #             print(data[i,j], \"min:\", np.min(data[:,j]))\n",
    "\n",
    "            else:\n",
    "                r = round(data[i,j]/np.max(data[:,j]),2)\n",
    "    #             print(data[i,j],\"max:\", np.max(data[:,j]))\n",
    "\n",
    "            data_.append(r)\n",
    "    #     print(data_)\n",
    "        data_normal.append(data_)\n",
    "    data_normal = np.array(data_normal).astype(float)\n",
    "#     print(data_normal)\n",
    "    return data_normal"
   ]
  },
  {
   "cell_type": "code",
   "execution_count": 44,
   "metadata": {},
   "outputs": [],
   "source": [
    "R = normalisasi(data)"
   ]
  },
  {
   "cell_type": "code",
   "execution_count": 45,
   "metadata": {},
   "outputs": [
    {
     "name": "stdout",
     "output_type": "stream",
     "text": [
      "[[1.   0.38 0.57 0.17 0.57]\n",
      " [0.5  0.62 0.86 0.14 0.71]\n",
      " [0.4  0.62 1.   0.5  0.86]\n",
      " [0.67 0.5  0.71 1.   1.  ]\n",
      " [0.5  1.   0.29 0.33 0.43]\n",
      " [0.5  0.5  0.71 0.12 0.71]\n",
      " [0.25 1.   1.   1.   0.57]]\n"
     ]
    }
   ],
   "source": [
    "print(R)"
   ]
  },
  {
   "cell_type": "code",
   "execution_count": 46,
   "metadata": {},
   "outputs": [
    {
     "name": "stdout",
     "output_type": "stream",
     "text": [
      "[0.55, 0.51, 0.63, 0.81, 0.48, 0.47, 0.71]\n"
     ]
    }
   ],
   "source": [
    "def final(R):\n",
    "    x, y = R.shape\n",
    "    hasil=[]\n",
    "    for i in range(x):\n",
    "        z_=0\n",
    "        for j in range(y):\n",
    "            z = R[i,j]*bobot[j]\n",
    "            z_ += z\n",
    "        hasil.append(round(z_,2))\n",
    "    return hasil\n",
    "\n",
    "hasil = final(R)\n",
    "print(hasil)"
   ]
  },
  {
   "cell_type": "code",
   "execution_count": 52,
   "metadata": {},
   "outputs": [
    {
     "name": "stdout",
     "output_type": "stream",
     "text": [
      "A> 1 : 0.55\n",
      "A> 2 : 0.51\n",
      "A> 3 : 0.63\n",
      "A> 4 : 0.81 ==> winner\n",
      "A> 5 : 0.48\n",
      "A> 6 : 0.47\n",
      "A> 7 : 0.71\n"
     ]
    }
   ],
   "source": [
    "x=1\n",
    "winner = np.max(hasil)\n",
    "for i in hasil:\n",
    "    print('A>',x,':', i,end='')\n",
    "    if i >= winner:\n",
    "        print(' ==> winner')\n",
    "    else:\n",
    "        print(\"\")\n",
    "    x+=1"
   ]
  }
 ],
 "metadata": {
  "kernelspec": {
   "display_name": "Python 3",
   "language": "python",
   "name": "python3"
  },
  "language_info": {
   "codemirror_mode": {
    "name": "ipython",
    "version": 3
   },
   "file_extension": ".py",
   "mimetype": "text/x-python",
   "name": "python",
   "nbconvert_exporter": "python",
   "pygments_lexer": "ipython3",
   "version": "3.6.5"
  }
 },
 "nbformat": 4,
 "nbformat_minor": 2
}
